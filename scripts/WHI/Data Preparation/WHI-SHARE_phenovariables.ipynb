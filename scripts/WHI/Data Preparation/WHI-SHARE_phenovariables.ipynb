{
 "metadata": {
  "language_info": {
   "codemirror_mode": {
    "name": "ipython",
    "version": 3
   },
   "file_extension": ".py",
   "mimetype": "text/x-python",
   "name": "python",
   "nbconvert_exporter": "python",
   "pygments_lexer": "ipython3",
   "version": "3.6.9-final"
  },
  "orig_nbformat": 2,
  "kernelspec": {
   "name": "python36964bitc682ae80919944c588ec05e6d9fb804e",
   "display_name": "Python 3.6.9 64-bit",
   "language": "python"
  }
 },
 "nbformat": 4,
 "nbformat_minor": 2,
 "cells": [
  {
   "source": [
    "First load in the necessary modules and set the max columns to 120 so that every column in the dataframe can be viewed:"
   ],
   "cell_type": "markdown",
   "metadata": {}
  },
  {
   "cell_type": "code",
   "execution_count": 0,
   "metadata": {},
   "outputs": [],
   "source": [
    "import pandas as pd\n",
    "import numpy as np\n",
    "pd.set_option('display.max_columns', 120)"
   ]
  },
  {
   "source": [
    "Load in the necessary files which will be used for building the phenotype dataset:"
   ],
   "cell_type": "markdown",
   "metadata": {}
  },
  {
   "cell_type": "code",
   "execution_count": null,
   "metadata": {},
   "outputs": [],
   "source": [
    "\n",
    "# Consent group 1\n",
    "\n",
    "c1_form2 = pd.read_csv('~/dbgap_data/WHI/consentgroup_1/phenogeno/pheno/rootstudy/RootStudyConsentSet_phs000200.WHI.v11.p3.c1.HMB-IRB/PhenotypeFiles/phs000200.v11.pht000998.v6.p3.c1.f2_rel1.HMB-IRB.txt', sep=\"\\t\", comment='#')\n",
    "c1_form30 = pd.read_csv('~/dbgap_data/WHI/consentgroup_1/phenogeno/pheno/rootstudy/RootStudyConsentSet_phs000200.WHI.v11.p3.c1.HMB-IRB/PhenotypeFiles/phs000200.v11.pht000999.v6.p3.c1.f30_rel2.HMB-IRB.txt',sep=\"\\t\", comment='#')\n",
    "c1_form41 = pd.read_csv('~/dbgap_data/WHI/consentgroup_1/phenogeno/pheno/rootstudy/RootStudyConsentSet_phs000200.WHI.v11.p3.c1.HMB-IRB/PhenotypeFiles/phs000200.v11.pht001009.v6.p3.c1.f41_rel1.HMB-IRB.txt', sep=\"\\t\", comment='#')\n",
    "c1_form80 = pd.read_csv('~/dbgap_data/WHI/consentgroup_1/phenogeno/pheno/rootstudy/RootStudyConsentSet_phs000200.WHI.v11.p3.c1.HMB-IRB/PhenotypeFiles/phs000200.v11.pht001019.v6.p3.c1.f80_rel1.HMB-IRB.txt', sep=\"\\t\",comment='#')\n",
    "\n",
    "c1_outc_ct_os = pd.read_csv('~/dbgap_data/WHI/consentgroup_1/phenogeno/pheno/rootstudy/RootStudyConsentSet_phs000200.WHI.v11.p3.c1.HMB-IRB/PhenotypeFiles/phs000200.v11.pht003407.v3.p3.c1.outc_ct_os_rel4.HMB-IRB.txt', sep=\"\\t\", comment='#')\n",
    "c1_outc_cancer_rel4 = pd.read_csv('~/dbgap_data/WHI/consentgroup_1/phenogeno/pheno/rootstudy/RootStudyConsentSet_phs000200.WHI.v11.p3.c1.HMB-IRB/PhenotypeFiles/phs000200.v11.pht003404.v3.p3.c1.outc_cancer_rel4.HMB-IRB.txt', sep=\"\\t\", comment='#')\n",
    "\n",
    "c1_WHI_Sample = pd.read_csv('~/dbgap_data/WHI/consentgroup_1/phenogeno/pheno/rootstudy/RootStudyConsentSet_phs000200.WHI.v11.p3.c1.HMB-IRB/PhenotypeFiles/phs000200.v11.pht001032.v8.p3.WHI_Sample.MULTI.txt', sep=\"\\t\", comment='#')\n",
    "c1_WHI_Subject = pd.read_csv('~/dbgap_data/WHI/consentgroup_1/phenogeno/pheno/rootstudy/RootStudyConsentSet_phs000200.WHI.v11.p3.c1.HMB-IRB/PhenotypeFiles/phs000200.v11.pht000982.v8.p3.WHI_Subject.MULTI.txt', sep=\"\\t\", comment='#')\n",
    "c1_746_pheno = pd.read_csv('~/dbgap_data/WHI/consentgroup_1/phenogeno/geno/746/PhenotypeFiles/phs000746.v2.pht004719.v1.p3.c1.WHI_Imputation_Sample_Attributes.HMB-IRB.txt', sep=\"\\t\", comment='#')\n",
    "\n",
    "# Consent Group 2\n",
    "\n",
    "c2_form2 = pd.read_csv('~/dbgap_data/WHI/consentgroup_2/phenogeno/pheno/rootstudy/RootStudyConsentSet_phs000200.WHI.v11.p3.c2.HMB-IRB-NPU/PhenotypeFiles/phs000200.v11.pht000998.v6.p3.c2.f2_rel1.HMB-IRB-NPU.txt', sep=\"\\t\", comment='#')\n",
    "c2_form30 = pd.read_csv('~/dbgap_data/WHI/consentgroup_2/phenogeno/pheno/rootstudy/RootStudyConsentSet_phs000200.WHI.v11.p3.c2.HMB-IRB-NPU/PhenotypeFiles/phs000200.v11.pht000999.v6.p3.c2.f30_rel2.HMB-IRB-NPU.txt', sep=\"\\t\", comment='#')\n",
    "c2_form41 = pd.read_csv('~/dbgap_data/WHI/consentgroup_2/phenogeno/pheno/rootstudy/RootStudyConsentSet_phs000200.WHI.v11.p3.c2.HMB-IRB-NPU/PhenotypeFiles/phs000200.v11.pht001009.v6.p3.c2.f41_rel1.HMB-IRB-NPU.txt', sep=\"\\t\", comment='#')\n",
    "c2_form80 = pd.read_csv('~/dbgap_data/WHI/consentgroup_2/phenogeno/pheno/rootstudy/RootStudyConsentSet_phs000200.WHI.v11.p3.c2.HMB-IRB-NPU/PhenotypeFiles/phs000200.v11.pht001019.v6.p3.c2.f80_rel1.HMB-IRB-NPU.txt', sep=\"\\t\",comment='#')\n",
    "\n",
    "c2_outc_ct_os = pd.read_csv('~/dbgap_data/WHI/consentgroup_2/phenogeno/pheno/rootstudy/RootStudyConsentSet_phs000200.WHI.v11.p3.c2.HMB-IRB-NPU/PhenotypeFiles/phs000200.v11.pht003407.v3.p3.c2.outc_ct_os_rel4.HMB-IRB-NPU.txt', sep=\"\\t\", comment='#')\n",
    "c2_outc_cancer_rel4 = pd.read_csv('~/dbgap_data/WHI/consentgroup_2/phenogeno/pheno/rootstudy/RootStudyConsentSet_phs000200.WHI.v11.p3.c2.HMB-IRB-NPU/PhenotypeFiles/phs000200.v11.pht003404.v3.p3.c2.outc_cancer_rel4.HMB-IRB-NPU.txt', sep=\"\\t\", comment='#')\n",
    "\n",
    "\n",
    "c2_WHI_Sample = pd.read_csv('~/dbgap_data/WHI/consentgroup_2/phenogeno/pheno/rootstudy/RootStudyConsentSet_phs000200.WHI.v11.p3.c2.HMB-IRB-NPU/PhenotypeFiles/phs000200.v11.pht001032.v8.p3.WHI_Sample.MULTI.txt', sep=\"\\t\", comment='#')\n",
    "c2_WHI_Subject = pd.read_csv('~/dbgap_data/WHI/consentgroup_2/phenogeno/pheno/rootstudy/RootStudyConsentSet_phs000200.WHI.v11.p3.c2.HMB-IRB-NPU/PhenotypeFiles/phs000200.v11.pht000982.v8.p3.WHI_Subject.MULTI.txt', sep=\"\\t\", comment='#')\n",
    "c2_746_pheno = pd.read_csv('~/dbgap_data/WHI/consentgroup_2/phenogeno/geno/746/PhenotypeFiles/phs000746.v2.pht004719.v1.p3.c2.WHI_Imputation_Sample_Attributes.HMB-IRB-NPU.txt', sep=\"\\t\", comment='#')\n"
   ]
  },
  {
   "source": [
    "Next, the phenotype data must be extracted and prepared before being added to the custom dataframe."
   ],
   "cell_type": "markdown",
   "metadata": {}
  },
  {
   "cell_type": "code",
   "execution_count": null,
   "metadata": {},
   "outputs": [],
   "source": [
    "\n",
    "# Extract Pancreatic Cancer patients\n",
    "\n",
    "c1_outc_cancer_rel4.PANCREAS = c1_outc_cancer_rel4.PANCREAS.fillna(0)\n",
    "c2_outc_cancer_rel4.PANCREAS = c2_outc_cancer_rel4.PANCREAS.fillna(0)\n",
    "\n",
    "c1_pancan_occ = c1_outc_cancer_rel4[c1_outc_cancer_rel4['PANCREAS'] == 1.0]\n",
    "c2_pancan_occ = c2_outc_cancer_rel4[c2_outc_cancer_rel4['PANCREAS'] == 1.0]\n",
    "\n",
    "c1_pancan_occ.reset_index(inplace=True,drop=True)\n",
    "c2_pancan_occ.reset_index(inplace=True,drop=True)\n",
    "\n",
    "# Extract BMI and Wasit Hip Ratio from Form80 and produce a mean\n",
    "\n",
    "c1_form80_BMI=c1_form80.groupby(by='dbGaP_Subject_ID')['BMIX'].mean()\n",
    "c1_form80_BMI=pd.DataFrame(c1_form80_BMI)\n",
    "c1_form80_BMI.reset_index(inplace=True)\n",
    "\n",
    "c1_form80_WHRX=c1_form80.groupby(by='dbGaP_Subject_ID')['WHRX'].mean()\n",
    "c1_form80_WHRX=pd.DataFrame(c1_form80_WHRX)\n",
    "c1_form80_WHRX.reset_index(inplace=True)\n",
    "\n",
    "\n",
    "c2_form80_BMI=c2_form80.groupby(by='dbGaP_Subject_ID')['BMIX'].mean()\n",
    "c2_form80_BMI=pd.DataFrame(c2_form80_BMI)\n",
    "c2_form80_BMI.reset_index(inplace=True)\n",
    "\n",
    "c2_form80_WHRX=c2_form80.groupby(by='dbGaP_Subject_ID')['WHRX'].mean()\n",
    "c2_form80_WHRX=pd.DataFrame(c2_form80_WHRX)\n",
    "c2_form80_WHRX.reset_index(inplace=True)\n",
    "\n"
   ]
  },
  {
   "source": [
    "Extract samples from imputed and harmonized data:\n",
    "\n",
    "- Use the WHI Sample file from the phenotypes folder to filter for only samples that are in the imputed and harmonized data:"
   ],
   "cell_type": "markdown",
   "metadata": {}
  },
  {
   "cell_type": "code",
   "execution_count": null,
   "metadata": {},
   "outputs": [],
   "source": [
    "# Consent group 1\n",
    "\n",
    "c1_WHI_Sample_filt_746 = c1_WHI_Sample[c1_WHI_Sample.STUDY.str.match('phs000746')]\n",
    "c1_WHI_Sample_filt_746.reset_index(inplace=True,drop=True)\n",
    "\n",
    "c1_WHI_Sample_filt_746_info = c1_WHI_Sample_filt_746[['dbGaP_Subject_ID', 'dbGaP_Sample_ID', 'SAMPLE_ID', 'SUBJID']]\n",
    "c1_WHI_Sample_filt_746_final = c1_WHI_Sample_filt_746[['dbGaP_Subject_ID', 'dbGaP_Sample_ID']]\n",
    "\n",
    "# Consent Group 2\n",
    "\n",
    "c2_WHI_Sample_filt_746 = c2_WHI_Sample[c2_WHI_Sample.STUDY.str.match('phs000746')]\n",
    "c2_WHI_Sample_filt_746.reset_index(inplace=True,drop=True)\n",
    "\n",
    "c2_WHI_Sample_filt_746_info = c2_WHI_Sample_filt_746[['dbGaP_Subject_ID', 'dbGaP_Sample_ID', 'SAMPLE_ID', 'SUBJID']]\n",
    "c2_WHI_Sample_filt_746_final = c2_WHI_Sample_filt_746[['dbGaP_Subject_ID', 'dbGaP_Sample_ID']]\n"
   ]
  },
  {
   "source": [
    "- Then, using the phenotype file which describes the genotyping samples, extract the samples which were used in the SHARE substudy. Create two share ha or aa):"
   ],
   "cell_type": "markdown",
   "metadata": {}
  },
  {
   "cell_type": "code",
   "execution_count": null,
   "metadata": {},
   "outputs": [],
   "source": [
    "# Consent Group 1\n",
    "\n",
    "c1_746_pheno_info = c1_746_pheno[['dbGaP_Sample_ID', 'SAMPLE_ID', 'SAMPLE_ORIGIN']]\n",
    "\n",
    "c1_746_pheno_info_SHARE = c1_746_pheno_info[c1_746_pheno_info.SAMPLE_ORIGIN.str.match('SHARE')]\n",
    "c1_746_pheno_info_SHARE.reset_index(inplace=True,drop=True)\n",
    "\n",
    "c1_746_pheno_info_SHARE_HA = c1_746_pheno_info_SHARE[c1_746_pheno_info_SHARE.SAMPLE_ORIGIN.str.match('SHARE-HA')]\n",
    "c1_746_pheno_info_SHARE_HA.reset_index(inplace=True,drop=True)\n",
    "\n",
    "c1_746_pheno_info_SHARE_AA = c1_746_pheno_info_SHARE[c1_746_pheno_info_SHARE.SAMPLE_ORIGIN.str.match('SHARE-AA')]\n",
    "c1_746_pheno_info_SHARE_AA.reset_index(inplace=True, drop=True)\n",
    "\n",
    "# Consent Group 2\n",
    "\n",
    "c2_746_pheno_info = c2_746_pheno[['dbGaP_Sample_ID', 'SAMPLE_ID', 'SAMPLE_ORIGIN']]\n",
    "\n",
    "c2_746_pheno_info_SHARE = c2_746_pheno_info[c2_746_pheno_info.SAMPLE_ORIGIN.str.match('SHARE')]\n",
    "c2_746_pheno_info_SHARE.reset_index(inplace=True,drop=True)\n",
    "\n",
    "c2_746_pheno_info_SHARE_HA = c2_746_pheno_info_SHARE[c2_746_pheno_info_SHARE.SAMPLE_ORIGIN.str.match('SHARE-HA')]\n",
    "c2_746_pheno_info_SHARE_HA.reset_index(inplace=True, drop=True)\n",
    "\n",
    "c2_746_pheno_info_SHARE_AA = c2_746_pheno_info_SHARE[c2_746_pheno_info_SHARE.SAMPLE_ORIGIN.str.match('SHARE-AA')]\n",
    "c2_746_pheno_info_SHARE_AA.reset_index(inplace=True, drop=True)\n",
    "\n"
   ]
  },
  {
   "source": [
    "- Merge the above filtered dataframes from the WHI Sample and 746 pheno dataframes. This is done with a left join onto the 746_pheno_info_SHARE dfs, as these should contain only those subjects who participated in SHARE. The subsequent df will be used later on when appending the phenotype information:"
   ],
   "cell_type": "markdown",
   "metadata": {}
  },
  {
   "cell_type": "code",
   "execution_count": null,
   "metadata": {},
   "outputs": [],
   "source": [
    "# Consent Group 1\n",
    "\n",
    "c1_SHARE = pd.merge(left=c1_746_pheno_info_SHARE, right=c1_WHI_Sample_filt_746_final, how='left', left_on='dbGaP_Sample_ID', right_on='dbGaP_Sample_ID')\n",
    "c1_SHARE_AA = pd.merge(left=c1_746_pheno_info_SHARE_AA, right=c1_WHI_Sample_filt_746_final, how='left', left_on='dbGaP_Sample_ID', right_on='dbGaP_Sample_ID')\n",
    "c1_SHARE_HA = pd.merge(left=c1_746_pheno_info_SHARE_HA, right=c1_WHI_Sample_filt_746_final, how='left', left_on='dbGaP_Sample_ID', right_on='dbGaP_Sample_ID')\n",
    "\n",
    "\n",
    "\n",
    "# Consent Group 2\n",
    "\n",
    "c2_SHARE = pd.merge(left=c2_746_pheno_info_SHARE, right=c2_WHI_Sample_filt_746_final, how='left', left_on='dbGaP_Sample_ID', right_on='dbGaP_Sample_ID')\n",
    "c2_SHARE_AA = pd.merge(left=c2_746_pheno_info_SHARE_AA, right=c2_WHI_Sample_filt_746_final, how='left', left_on='dbGaP_Sample_ID', right_on='dbGaP_Sample_ID')\n",
    "c2_SHARE_HA = pd.merge(left=c2_746_pheno_info_SHARE_HA, right=c2_WHI_Sample_filt_746_final, how='left', left_on='dbGaP_Sample_ID', right_on='dbGaP_Sample_ID')\n",
    "\n",
    "\n"
   ]
  },
  {
   "source": [
    "Create a new dataframe which contains the phenotype data relevant to the GWAS. First, an empty df is created and db_GaP_Subject_ID is added using form 2, as it contains basic information about the patients, without which we cannot control for key confounders - hence this information is essential:"
   ],
   "cell_type": "markdown",
   "metadata": {}
  },
  {
   "cell_type": "code",
   "execution_count": null,
   "metadata": {},
   "outputs": [],
   "source": [
    "\n",
    "# Create empty DF with subject ID column based on form 2\n",
    "\n",
    "c1_subject_ID = pd.DataFrame()\n",
    "c1_subject_ID['dbGaP_Subject_ID'] = c1_form2['dbGaP_Subject_ID']\n",
    "\n",
    "c2_subject_ID = pd.DataFrame()\n",
    "c2_subject_ID['dbGaP_Subject_ID'] = c2_form2['dbGaP_Subject_ID']\n"
   ]
  },
  {
   "source": [
    "- Merge the necessary columns to the above dfs:"
   ],
   "cell_type": "markdown",
   "metadata": {}
  },
  {
   "cell_type": "code",
   "execution_count": null,
   "metadata": {},
   "outputs": [],
   "source": [
    "# Extract and merge the columns needed for consent group 1 \n",
    "\n",
    "c1_mydf = pd.DataFrame()\n",
    "c1_mydf['dbGaP_Subject_ID'] = c1_subject_ID['dbGaP_Subject_ID']\n",
    "\n",
    "c1_mydf = pd.merge(left=c1_mydf, right=c1_form2[['dbGaP_Subject_ID', 'AGE', 'RACE', 'DIAB']], how='left', left_on='dbGaP_Subject_ID', right_on='dbGaP_Subject_ID')\n",
    "c1_mydf = pd.merge(left=c1_mydf, right=c1_form41[['dbGaP_Subject_ID','SPANISH', 'BLACK']], how='left', left_on='dbGaP_Subject_ID', right_on='dbGaP_Subject_ID')\n",
    "c1_mydf = pd.merge(left=c1_mydf, right=c1_form30[['dbGaP_Subject_ID', 'PANCREAT']], how='left', left_on='dbGaP_Subject_ID', right_on='dbGaP_Subject_ID')\n",
    "c1_mydf = pd.merge(left=c1_mydf, right=c1_outc_ct_os[['dbGaP_Subject_ID', 'PANCREASDY', 'DEATH','DEATHDY', 'ENDWHIDY', 'ENDFOLLOWDY']], how='left', left_on='dbGaP_Subject_ID', right_on='dbGaP_Subject_ID')\n",
    "c1_mydf = pd.merge(left=c1_mydf, right=c1_pancan_occ[['dbGaP_Subject_ID', 'PANCREAS', 'ICDCODE', 'BEHAVIOR', 'DIAGSTAT', 'LATERAL', 'MRPHHISTB', 'GRADING', 'SIZE', 'STAGE']], how='left', left_on='dbGaP_Subject_ID', right_on='dbGaP_Subject_ID')\n",
    "c1_mydf = pd.merge(left=c1_mydf, right=c1_form80_BMI, how='left', left_on='dbGaP_Subject_ID', right_on='dbGaP_Subject_ID')\n",
    "c1_mydf = pd.merge(left=c1_mydf, right=c1_form80_WHRX[['dbGaP_Subject_ID', 'WHRX']], how='left', left_on='dbGaP_Subject_ID', right_on='dbGaP_Subject_ID')\n",
    "\n",
    "\n",
    "# Extract and merge the columns needed for consent group 2\n",
    "\n",
    "c2_mydf = pd.DataFrame()\n",
    "c2_mydf['dbGaP_Subject_ID'] = c2_subject_ID['dbGaP_Subject_ID']\n",
    "\n",
    "c2_mydf = pd.merge(left=c2_mydf, right=c2_form2[['dbGaP_Subject_ID', 'AGE', 'RACE', 'DIAB']], how='left', left_on='dbGaP_Subject_ID', right_on='dbGaP_Subject_ID')\n",
    "c2_mydf = pd.merge(left=c2_mydf, right=c2_form41[['dbGaP_Subject_ID','SPANISH', 'BLACK']], how='left', left_on='dbGaP_Subject_ID', right_on='dbGaP_Subject_ID')\n",
    "c2_mydf = pd.merge(left=c2_mydf, right=c2_form30[['dbGaP_Subject_ID', 'PANCREAT']], how='left', left_on='dbGaP_Subject_ID', right_on='dbGaP_Subject_ID')\n",
    "c2_mydf = pd.merge(left=c2_mydf, right=c2_outc_ct_os[['dbGaP_Subject_ID', 'PANCREASDY', 'DEATH','DEATHDY', 'ENDWHIDY', 'ENDFOLLOWDY']], how='left', left_on='dbGaP_Subject_ID', right_on='dbGaP_Subject_ID')\n",
    "c2_mydf = pd.merge(left=c2_mydf, right=c2_pancan_occ[['dbGaP_Subject_ID', 'PANCREAS', 'ICDCODE', 'BEHAVIOR', 'DIAGSTAT', 'LATERAL', 'MRPHHISTB', 'GRADING', 'SIZE', 'STAGE']], how='left', left_on='dbGaP_Subject_ID', right_on='dbGaP_Subject_ID')\n",
    "c2_mydf = pd.merge(left=c2_mydf, right=c2_form80_BMI[['dbGaP_Subject_ID', 'BMIX']], how='left', left_on='dbGaP_Subject_ID', right_on='dbGaP_Subject_ID')\n",
    "c2_mydf = pd.merge(left=c2_mydf, right=c2_form80_WHRX[['dbGaP_Subject_ID', 'WHRX']], how='left', left_on='dbGaP_Subject_ID', right_on='dbGaP_Subject_ID')\n",
    "\n"
   ]
  },
  {
   "source": [
    "Clean and transform the datasets:"
   ],
   "cell_type": "markdown",
   "metadata": {}
  },
  {
   "source": [
    "- Rename the columns"
   ],
   "cell_type": "markdown",
   "metadata": {}
  },
  {
   "cell_type": "code",
   "execution_count": null,
   "metadata": {},
   "outputs": [],
   "source": [
    "c1_mydf = c1_mydf.rename(columns={\"RACE\": \"race\", \"DIAB\": \"HISTORY_DIABETES\", \"SPANISH\": \"SPANISH_RACE\", \"PANCREAT\": \"PANCREATITIS\", \"PANCREASDY\": \"AGE_DIAGNOSED\", \"DEATH\": \"DECEASED\", \"DEATHDY\": \"AGE_DEATH\", \"ENDFOLLOWDY\": \"AGE_END_FOLLOW\", \"PANCREAS\": \"PAN_CAN\",\"ICDCODE\": \"PAN_CAN_LOCATION\",\"BEHAVIOR\": \"TUMOUR_BEHAVIOUR\", \"DIAGSTAT\": \"DIAGNOSIS_STATUS\", \"LATERAL\": \"LATERALITY\", \"MRPHHISTB\": \"TUMOUR_MORPHOLOGY\", \"GRADING\": \"TUMOUR_GRADE\", \"SIZE\": \"TUMOUR_SIZE\", \"STAGE\": \"TUMOUR_STAGE\", \"BMIX\": \"MEAN_BMI\", \"WHRX\": \"MEAN_WHR\"})\n",
    "\n",
    "c2_mydf = c2_mydf.rename(columns={\"RACE\": \"race\", \"DIAB\": \"HISTORY_DIABETES\", \"SPANISH\": \"SPANISH_RACE\", \"PANCREAT\": \"PANCREATITIS\", \"PANCREASDY\": \"AGE_DIAGNOSED\", \"DEATH\": \"DECEASED\", \"DEATHDY\": \"AGE_DEATH\", \"ENDFOLLOWDY\": \"AGE_END_FOLLOW\", \"PANCREAS\": \"PAN_CAN\",\"ICDCODE\": \"PAN_CAN_LOCATION\",\"BEHAVIOR\": \"TUMOUR_BEHAVIOUR\", \"DIAGSTAT\": \"DIAGNOSIS_STATUS\", \"LATERAL\": \"LATERALITY\", \"MRPHHISTB\": \"TUMOUR_MORPHOLOGY\", \"GRADING\": \"TUMOUR_GRADE\", \"SIZE\": \"TUMOUR_SIZE\", \"STAGE\": \"TUMOUR_STAGE\", \"BMIX\": \"MEAN_BMI\", \"WHRX\": \"MEAN_WHR\"})\n",
    "\n"
   ]
  },
  {
   "source": [
    "\n",
    "(\n",
    "    If NA cant be used and they need to be replaced with 0 so that they can be used, use the following:\n",
    "c1_mydf = c1_mydf.fillna(0)\n",
    "c2_mydf = c2_mydf.fillna(0)\n",
    ")\n"
   ],
   "cell_type": "markdown",
   "metadata": {}
  },
  {
   "source": [
    "\n",
    "Transform the columns as required for the analysis. Further information can be found within the WHI_SHARE_phenovariables_plan.xml file in the project directory."
   ],
   "cell_type": "markdown",
   "metadata": {}
  },
  {
   "source": [
    "- Convert age days enrolled from diagnosis to age diagnosed"
   ],
   "cell_type": "markdown",
   "metadata": {}
  },
  {
   "cell_type": "code",
   "execution_count": null,
   "metadata": {},
   "outputs": [],
   "source": [
    "c1_mydf.AGE_DIAGNOSED = c1_mydf.AGE + (c1_mydf.AGE_DIAGNOSED / 365)\n",
    "\n",
    "c2_mydf.AGE_DIAGNOSED = c2_mydf.AGE + (c2_mydf.AGE_DIAGNOSED / 365)"
   ]
  },
  {
   "source": [
    "- Convert days till death to age of death in years"
   ],
   "cell_type": "markdown",
   "metadata": {}
  },
  {
   "cell_type": "code",
   "execution_count": null,
   "metadata": {},
   "outputs": [],
   "source": [
    "c1_mydf.AGE_DEATH = c1_mydf.AGE+(c1_mydf.AGE_DEATH / 365)\n",
    "c2_mydf.AGE_DEATH = c2_mydf.AGE+(c2_mydf.AGE_DEATH / 365)"
   ]
  },
  {
   "source": [
    "- Calculate number of months survived with pancreatic cancer"
   ],
   "cell_type": "markdown",
   "metadata": {}
  },
  {
   "cell_type": "code",
   "execution_count": null,
   "metadata": {},
   "outputs": [],
   "source": [
    "c1_mydf['PAN_CAN_MONTHS_SURVIVED'] = (c1_mydf.AGE_DEATH - c1_mydf.AGE_DIAGNOSED) * 12\n",
    "\n",
    "c2_mydf['PAN_CAN_MONTHS_SURVIVED'] = (c2_mydf.AGE_DEATH - c2_mydf.AGE_DIAGNOSED) * 12"
   ]
  },
  {
   "source": [
    "- Convert the number of days till end follow up to their age at end of follow up"
   ],
   "cell_type": "markdown",
   "metadata": {}
  },
  {
   "cell_type": "code",
   "execution_count": null,
   "metadata": {},
   "outputs": [],
   "source": [
    "c1_mydf.AGE_END_FOLLOW = c1_mydf.AGE+(c1_mydf.AGE_END_FOLLOW / 365)\n",
    "\n",
    "c2_mydf.AGE_END_FOLLOW = c2_mydf.AGE+(c2_mydf.AGE_END_FOLLOW / 365)"
   ]
  },
  {
   "source": [
    "Finally, extract patients from the mydf dataframes onto the SHARE dataframes created earlier, so that only patients in the SHARE substudy are present in the phenotype files"
   ],
   "cell_type": "markdown",
   "metadata": {}
  },
  {
   "cell_type": "code",
   "execution_count": null,
   "metadata": {},
   "outputs": [],
   "source": [
    "c1_SHARE_AA_pheno = pd.merge(left=c1_SHARE_AA, right=c1_mydf, how='left', left_on='dbGaP_Subject_ID', right_on='dbGaP_Subject_ID')\n",
    "c1_SHARE_HA_pheno = pd.merge(left=c1_SHARE_HA, right=c1_mydf, how='left', left_on='dbGaP_Subject_ID', right_on='dbGaP_Subject_ID')\n",
    "\n",
    "\n",
    "c2_SHARE_AA_pheno = pd.merge(left=c2_SHARE_AA, right=c2_mydf, how='left', left_on='dbGaP_Subject_ID', right_on='dbGaP_Subject_ID')\n",
    "c2_SHARE_HA_pheno = pd.merge(left=c2_SHARE_HA, right=c2_mydf, how='left', left_on='dbGaP_Subject_ID', right_on='dbGaP_Subject_ID')"
   ]
  },
  {
   "source": [
    "Modify the DFs for use in GWASTools:"
   ],
   "cell_type": "markdown",
   "metadata": {}
  },
  {
   "cell_type": "code",
   "execution_count": null,
   "metadata": {},
   "outputs": [],
   "source": [
    "# Add column denoting sex:\n",
    "\n",
    "c1_SHARE_AA_pheno['sex'] = 'F'\n",
    "c1_SHARE_HA_pheno['sex'] = 'F'\n",
    "\n",
    "c2_SHARE_AA_pheno['sex'] = 'F'\n",
    "c2_SHARE_HA_pheno['sex'] = 'F'\n",
    "\n",
    "\n",
    "# Rename dbgap sample id to scanid\n",
    "\n",
    "c1_SHARE_AA_pheno = c1_SHARE_AA_pheno.rename(columns={\"dbGaP_Sample_ID\": \"scanID\"})\n",
    "c1_SHARE_HA_pheno = c1_SHARE_HA_pheno.rename(columns={\"dbGaP_Sample_ID\": \"scanID\"})\n",
    "\n",
    "c2_SHARE_AA_pheno = c2_SHARE_AA_pheno.rename(columns={\"dbGaP_Sample_ID\": \"scanID\"})\n",
    "c2_SHARE_HA_pheno = c2_SHARE_HA_pheno.rename(columns={\"dbGaP_Sample_ID\": \"scanID\"})\n"
   ]
  },
  {
   "source": [
    "Output the dataframes:"
   ],
   "cell_type": "markdown",
   "metadata": {}
  },
  {
   "source": [
    "Save the files use:"
   ],
   "cell_type": "markdown",
   "metadata": {}
  },
  {
   "cell_type": "code",
   "execution_count": null,
   "metadata": {},
   "outputs": [],
   "source": [
    "c1_SHARE_AA_pheno.to_csv('/home/anbennett2/analysis/pheno_geno_files/WHI_SHARE/pheno_variables/c1_SHARE_AA_pheno.csv', sep='\\t', index=False)\n",
    "c1_SHARE_HA_pheno.to_csv('/home/anbennett2/analysis/pheno_geno_files/WHI_SHARE/pheno_variables/c1_SHARE_HA_pheno.csv', sep='\\t', index=False)\n",
    "\n",
    "c2_SHARE_AA_pheno.to_csv('/home/anbennett2/analysis/pheno_geno_files/WHI_SHARE/pheno_variables/c2_SHARE_AA_pheno.csv', sep='\\t', index=False)\n",
    "c2_SHARE_HA_pheno.to_csv('/home/anbennett2/analysis/pheno_geno_files/WHI_SHARE/pheno_variables/c2_SHARE_HA_pheno.csv', sep='\\t', index=False)"
   ]
  },
  {
   "source": [
    "Save the files for backup:"
   ],
   "cell_type": "markdown",
   "metadata": {}
  },
  {
   "cell_type": "code",
   "execution_count": null,
   "metadata": {},
   "outputs": [],
   "source": [
    "c1_SHARE_AA_pheno.to_csv('/home/anbennett2/analysis/results/gwas_pancan/pheno/c1_SHARE_AA_pheno.csv', sep='\\t', index=False)\n",
    "c1_SHARE_HA_pheno.to_csv('/home/anbennett2/analysis/results/gwas_pancan/pheno/c1_SHARE_HA_pheno.csv', sep='\\t', index=False)\n",
    "\n",
    "c2_SHARE_AA_pheno.to_csv('/home/anbennett2/analysis/results/gwas_pancan/pheno/c2_SHARE_AA_pheno.csv', sep='\\t', index=False)\n",
    "c2_SHARE_HA_pheno.to_csv('/home/anbennett2/analysis/results/gwas_pancan/pheno/c2_SHARE_HA_pheno.csv', sep='\\t', index=False)"
   ]
  },
  {
   "source": [
    "Combine the consent groups"
   ],
   "cell_type": "markdown",
   "metadata": {}
  },
  {
   "cell_type": "code",
   "execution_count": null,
   "metadata": {},
   "outputs": [],
   "source": [
    "cb_SHARE_AA_pheno = pd.concat([c1_SHARE_AA_pheno, c2_SHARE_AA_pheno], axis=0)\n",
    "\n",
    "cb_SHARE_HA_pheno = pd.concat([c1_SHARE_HA_pheno, c2_SHARE_HA_pheno], axis=0)"
   ]
  },
  {
   "cell_type": "code",
   "execution_count": null,
   "metadata": {},
   "outputs": [],
   "source": [
    "Export the combined files:"
   ]
  },
  {
   "cell_type": "code",
   "execution_count": null,
   "metadata": {},
   "outputs": [],
   "source": [
    "cb_SHARE_AA_pheno.to_csv('/home/anbennett2/analysis/pheno_geno_files/WHI_SHARE/pheno_variables/cb_SHARE_AA_pheno.csv', sep='\\t', index=False)\n",
    "cb_SHARE_AA_pheno.to_csv('/home/anbennett2/analysis/results/gwas_pancan/pheno/cb_SHARE_AA_pheno.csv', sep='\\t', index=False)\n",
    "\n",
    "cb_SHARE_HA_pheno.to_csv('/home/anbennett2/analysis/pheno_geno_files/WHI_SHARE/pheno_variables/cb_SHARE_HA_pheno.csv', sep='\\t', index=False)\n",
    "cb_SHARE_HA_pheno.to_csv('/home/anbennett2/analysis/results/gwas_pancan/pheno/cb_SHARE_HA_pheno.csv', sep='\\t', index=False)"
   ]
  }
 ]
}