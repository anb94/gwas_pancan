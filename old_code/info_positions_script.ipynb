{
 "metadata": {
  "language_info": {
   "codemirror_mode": {
    "name": "ipython",
    "version": 3
   },
   "file_extension": ".py",
   "mimetype": "text/x-python",
   "name": "python",
   "nbconvert_exporter": "python",
   "pygments_lexer": "ipython3",
   "version": "3.6.9-final"
  },
  "orig_nbformat": 2,
  "kernelspec": {
   "name": "python36964bitc682ae80919944c588ec05e6d9fb804e",
   "display_name": "Python 3.6.9 64-bit",
   "language": "python"
  }
 },
 "nbformat": 4,
 "nbformat_minor": 2,
 "cells": [
  {
   "cell_type": "code",
   "execution_count": null,
   "metadata": {},
   "outputs": [],
   "source": [
    "import pandas as pd\n",
    "import numpy as np\n",
    "pd.set_option('display.max_columns', 120)"
   ]
  },
  {
   "cell_type": "code",
   "execution_count": null,
   "metadata": {},
   "outputs": [],
   "source": [
    "SHAREchr1ha_info = pd.read_csv(\"/home/anbennett2/dbgap_data/WHI/consentgroup_1/phenogeno/geno/746/phg000592.v1.WHI_SHARE_ha.genotype-imputed-data.c1/info_positions/SHAREchr1ha.txt\", sep=\"\\t\", comment='#')\n",
    "SHAREchr2ha_info = pd.read_csv(\"/home/anbennett2/dbgap_data/WHI/consentgroup_1/phenogeno/geno/746/phg000592.v1.WHI_SHARE_ha.genotype-imputed-data.c1/info_positions/SHAREchr2ha.txt\", sep=\"\\t\", comment='#')\n",
    "SHAREchr3ha_info = pd.read_csv(\"/home/anbennett2/dbgap_data/WHI/consentgroup_1/phenogeno/geno/746/phg000592.v1.WHI_SHARE_ha.genotype-imputed-data.c1/info_positions/SHAREchr3ha.txt\", sep=\"\\t\", comment='#')\n",
    "SHAREchr4ha_info = pd.read_csv(\"/home/anbennett2/dbgap_data/WHI/consentgroup_1/phenogeno/geno/746/phg000592.v1.WHI_SHARE_ha.genotype-imputed-data.c1/info_positions/SHAREchr4ha.txt\", sep=\"\\t\", comment='#')\n",
    "SHAREchr5ha_info = pd.read_csv(\"/home/anbennett2/dbgap_data/WHI/consentgroup_1/phenogeno/geno/746/phg000592.v1.WHI_SHARE_ha.genotype-imputed-data.c1/info_positions/SHAREchr5ha.txt\", sep=\"\\t\", comment='#')\n",
    "SHAREchr6ha_info = pd.read_csv(\"/home/anbennett2/dbgap_data/WHI/consentgroup_1/phenogeno/geno/746/phg000592.v1.WHI_SHARE_ha.genotype-imputed-data.c1/info_positions/SHAREchr6ha.txt\", sep=\"\\t\", comment='#')\n",
    "SHAREchr7ha_info = pd.read_csv(\"/home/anbennett2/dbgap_data/WHI/consentgroup_1/phenogeno/geno/746/phg000592.v1.WHI_SHARE_ha.genotype-imputed-data.c1/info_positions/SHAREchr7ha.txt\", sep=\"\\t\", comment='#')\n",
    "SHAREchr8ha_info = pd.read_csv(\"/home/anbennett2/dbgap_data/WHI/consentgroup_1/phenogeno/geno/746/phg000592.v1.WHI_SHARE_ha.genotype-imputed-data.c1/info_positions/SHAREchr8ha.txt\", sep=\"\\t\", comment='#')\n",
    "SHAREchr9ha_info = pd.read_csv(\"/home/anbennett2/dbgap_data/WHI/consentgroup_1/phenogeno/geno/746/phg000592.v1.WHI_SHARE_ha.genotype-imputed-data.c1/info_positions/SHAREchr9ha.txt\", sep=\"\\t\", comment='#')\n",
    "SHAREchr10ha_info = pd.read_csv(\"/home/anbennett2/dbgap_data/WHI/consentgroup_1/phenogeno/geno/746/phg000592.v1.WHI_SHARE_ha.genotype-imputed-data.c1/info_positions/SHAREchr10ha.txt\", sep=\"\\t\", comment='#')\n",
    "SHAREchr11ha_info = pd.read_csv(\"/home/anbennett2/dbgap_data/WHI/consentgroup_1/phenogeno/geno/746/phg000592.v1.WHI_SHARE_ha.genotype-imputed-data.c1/info_positions/SHAREchr11ha.txt\", sep=\"\\t\", comment='#')\n",
    "SHAREchr12ha_info = pd.read_csv(\"/home/anbennett2/dbgap_data/WHI/consentgroup_1/phenogeno/geno/746/phg000592.v1.WHI_SHARE_ha.genotype-imputed-data.c1/info_positions/SHAREchr12ha.txt\", sep=\"\\t\", comment='#')\n",
    "SHAREchr13ha_info = pd.read_csv(\"/home/anbennett2/dbgap_data/WHI/consentgroup_1/phenogeno/geno/746/phg000592.v1.WHI_SHARE_ha.genotype-imputed-data.c1/info_positions/SHAREchr13ha.txt\", sep=\"\\t\", comment='#')\n",
    "SHAREchr14ha_info = pd.read_csv(\"/home/anbennett2/dbgap_data/WHI/consentgroup_1/phenogeno/geno/746/phg000592.v1.WHI_SHARE_ha.genotype-imputed-data.c1/info_positions/SHAREchr14ha.txt\", sep=\"\\t\", comment='#')\n",
    "SHAREchr15ha_info = pd.read_csv(\"/home/anbennett2/dbgap_data/WHI/consentgroup_1/phenogeno/geno/746/phg000592.v1.WHI_SHARE_ha.genotype-imputed-data.c1/info_positions/SHAREchr15ha.txt\", sep=\"\\t\", comment='#')\n",
    "SHAREchr16ha_info = pd.read_csv(\"/home/anbennett2/dbgap_data/WHI/consentgroup_1/phenogeno/geno/746/phg000592.v1.WHI_SHARE_ha.genotype-imputed-data.c1/info_positions/SHAREchr16ha.txt\", sep=\"\\t\", comment='#')\n",
    "SHAREchr17ha_info = pd.read_csv(\"/home/anbennett2/dbgap_data/WHI/consentgroup_1/phenogeno/geno/746/phg000592.v1.WHI_SHARE_ha.genotype-imputed-data.c1/info_positions/SHAREchr17ha.txt\", sep=\"\\t\", comment='#')\n",
    "SHAREchr18ha_info = pd.read_csv(\"/home/anbennett2/dbgap_data/WHI/consentgroup_1/phenogeno/geno/746/phg000592.v1.WHI_SHARE_ha.genotype-imputed-data.c1/info_positions/SHAREchr18ha.txt\", sep=\"\\t\", comment='#')\n",
    "SHAREchr19ha_info = pd.read_csv(\"/home/anbennett2/dbgap_data/WHI/consentgroup_1/phenogeno/geno/746/phg000592.v1.WHI_SHARE_ha.genotype-imputed-data.c1/info_positions/SHAREchr19ha.txt\", sep=\"\\t\", comment='#')\n",
    "SHAREchr20ha_info = pd.read_csv(\"/home/anbennett2/dbgap_data/WHI/consentgroup_1/phenogeno/geno/746/phg000592.v1.WHI_SHARE_ha.genotype-imputed-data.c1/info_positions/SHAREchr20ha.txt\", sep=\"\\t\", comment='#')\n",
    "SHAREchr21ha_info = pd.read_csv(\"/home/anbennett2/dbgap_data/WHI/consentgroup_1/phenogeno/geno/746/phg000592.v1.WHI_SHARE_ha.genotype-imputed-data.c1/info_positions/SHAREchr21ha.txt\", sep=\"\\t\", comment='#')\n",
    "SHAREchr22ha_info = pd.read_csv(\"/home/anbennett2/dbgap_data/WHI/consentgroup_1/phenogeno/geno/746/phg000592.v1.WHI_SHARE_ha.genotype-imputed-data.c1/info_positions/SHAREchr22ha.txt\", sep=\"\\t\", comment='#')\n",
    "SHAREchr23ha_info = pd.read_csv(\"/home/anbennett2/dbgap_data/WHI/consentgroup_1/phenogeno/geno/746/phg000592.v1.WHI_SHARE_ha.genotype-imputed-data.c1/info_positions/SHAREchr23ha.txt\", sep=\"\\t\", comment='#')\n"
   ]
  }
 ]
}