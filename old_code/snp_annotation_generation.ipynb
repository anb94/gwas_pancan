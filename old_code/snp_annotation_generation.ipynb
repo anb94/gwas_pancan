{
 "metadata": {
  "language_info": {
   "codemirror_mode": {
    "name": "ipython",
    "version": 3
   },
   "file_extension": ".py",
   "mimetype": "text/x-python",
   "name": "python",
   "nbconvert_exporter": "python",
   "pygments_lexer": "ipython3",
   "version": 3
  },
  "orig_nbformat": 2
 },
 "nbformat": 4,
 "nbformat_minor": 2,
 "cells": [
  {
   "cell_type": "code",
   "execution_count": null,
   "metadata": {},
   "outputs": [],
   "source": [
    "import pandas as pd\n",
    "import numpy as np"
   ]
  },
  {
   "cell_type": "code",
   "execution_count": null,
   "metadata": {},
   "outputs": [],
   "source": [
    "SHAREchr1aa_info = pd.read_csv('/home/anbennett2/dbgap_data/WHI/consentgroup_1/phenogeno/geno/746/phg000592.v1.WHI_SHARE_aa.genotype-imputed-data.c1/SHAREchr1aa.info', sep='\\t')\n",
    "test_posfile = pd.read_csv('/home/anbennett2/dbgap_data/WHI/consentgroup_1/phenogeno/geno/746/posfiles/aa/SHAREchr1aa_posfile.csv', sep='\\t')\n",
    "\n",
    "chr1_snpannot = pd.concat([test_posfile, SHAREchr1aa_info[['Al1', 'Al2']], ], ignore_index=True, sort=False, axis=1)\n",
    "\n",
    "\n",
    "chr1_snpannot = chr1_snpannot.rename(columns={0: \"snpid\", 1: \"SNP \", 2: \"position\", 3: 'chromosome', 4:'alleleA', 5: 'alleleB'})\n",
    "\n",
    "chr1_snpannot.to_csv('/home/anbennett2/chr1_snpannot', sep='\\t', index=False)\n",
    "\n",
    "\n",
    "\n",
    "\n",
    "\n",
    "\n",
    "\n",
    "\n",
    "\n",
    "\n",
    "SHAREchr1aa_info\n",
    "\n",
    "\n",
    "\n",
    "c1_SHARE_HA_pheno = pd.read_csv('/home/anbennett2/analysis/results/gwas_pancan/pheno/c1_SHARE_HA_pheno.csv', sep='\\t')\n",
    "\n",
    "c2_SHARE_AA_pheno = pd.read_csv('/home/anbennett2/analysis/results/gwas_pancan/pheno/c2_SHARE_AA_pheno.csv', sep='\\t')\n",
    "c2_SHARE_HA_pheno = pd.read_csv('/home/anbennett2/analysis/results/gwas_pancan/pheno/c2_SHARE_HA_pheno.csv', sep='\\t')"
   ]
  }
 ]
}